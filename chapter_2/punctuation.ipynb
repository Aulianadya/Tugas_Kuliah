{
 "cells": [
  {
   "cell_type": "code",
   "execution_count": 5,
   "metadata": {},
   "outputs": [],
   "source": [
    "from nltk.tokenize import word_tokenize"
   ]
  },
  {
   "cell_type": "code",
   "execution_count": 6,
   "metadata": {},
   "outputs": [],
   "source": [
    "text = \"Punctuation marks guide the flow of language, indicating pauses, endings, and emotions. Punctuation is incredible! It adds falvor to language. Do you agree? With this kind of things.\""
   ]
  },
  {
   "cell_type": "code",
   "execution_count": 7,
   "metadata": {},
   "outputs": [
    {
     "name": "stdout",
     "output_type": "stream",
     "text": [
      "Original Text :  Punctuation marks guide the flow of language, indicating pauses, endings, and emotions. Punctuation is incredible! It adds falvor to language. Do you agree? With this kind of things.\n"
     ]
    }
   ],
   "source": [
    "print(\"Original Text : \", text)"
   ]
  },
  {
   "cell_type": "code",
   "execution_count": 8,
   "metadata": {},
   "outputs": [],
   "source": [
    "tokens = word_tokenize(text)"
   ]
  },
  {
   "cell_type": "code",
   "execution_count": 9,
   "metadata": {},
   "outputs": [],
   "source": [
    "tokens_without_punch = []\n",
    "for token in tokens:\n",
    "    if token.isalnum():\n",
    "        tokens_without_punch.append(token)"
   ]
  },
  {
   "cell_type": "code",
   "execution_count": 11,
   "metadata": {},
   "outputs": [
    {
     "name": "stdout",
     "output_type": "stream",
     "text": [
      "Without Punctuation Text:  Punctuation marks guide the flow of language indicating pauses endings and emotions Punctuation is incredible It adds falvor to language Do you agree With this kind of things\n"
     ]
    }
   ],
   "source": [
    "print(\"Without Punctuation Text: \",\" \".join(tokens_without_punch))"
   ]
  }
 ],
 "metadata": {
  "kernelspec": {
   "display_name": "Python 3",
   "language": "python",
   "name": "python3"
  },
  "language_info": {
   "codemirror_mode": {
    "name": "ipython",
    "version": 3
   },
   "file_extension": ".py",
   "mimetype": "text/x-python",
   "name": "python",
   "nbconvert_exporter": "python",
   "pygments_lexer": "ipython3",
   "version": "3.12.6"
  }
 },
 "nbformat": 4,
 "nbformat_minor": 2
}
