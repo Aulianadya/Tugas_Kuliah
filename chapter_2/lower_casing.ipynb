{
 "cells": [
  {
   "cell_type": "code",
   "execution_count": 1,
   "metadata": {},
   "outputs": [],
   "source": [
    "text = \"Football unites fans around the world. The excitement of football creates unforgetable memories.\""
   ]
  },
  {
   "cell_type": "code",
   "execution_count": 3,
   "metadata": {},
   "outputs": [
    {
     "name": "stdout",
     "output_type": "stream",
     "text": [
      "Original Text: \n",
      " Football unites fans around the world. The excitement of football creates unforgetable memories.\n"
     ]
    }
   ],
   "source": [
    "print(\"Original Text: \\n\", text)"
   ]
  },
  {
   "cell_type": "code",
   "execution_count": 7,
   "metadata": {},
   "outputs": [
    {
     "name": "stdout",
     "output_type": "stream",
     "text": [
      "Lowercased Text : football unites fans around the world. the excitement of football creates unforgetable memories.\n"
     ]
    }
   ],
   "source": [
    "lowercased_text = text.lower()\n",
    "\n",
    "print(\"Lowercased Text :\", lowercased_text)"
   ]
  }
 ],
 "metadata": {
  "kernelspec": {
   "display_name": "Python 3",
   "language": "python",
   "name": "python3"
  },
  "language_info": {
   "codemirror_mode": {
    "name": "ipython",
    "version": 3
   },
   "file_extension": ".py",
   "mimetype": "text/x-python",
   "name": "python",
   "nbconvert_exporter": "python",
   "pygments_lexer": "ipython3",
   "version": "3.12.6"
  }
 },
 "nbformat": 4,
 "nbformat_minor": 2
}
