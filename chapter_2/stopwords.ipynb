{
 "cells": [
  {
   "cell_type": "code",
   "execution_count": 1,
   "metadata": {},
   "outputs": [],
   "source": [
    "from nltk.tokenize import word_tokenize\n",
    "from nltk.corpus import stopwords"
   ]
  },
  {
   "cell_type": "code",
   "execution_count": 2,
   "metadata": {},
   "outputs": [],
   "source": [
    "stop_words = set(stopwords.words('english'))"
   ]
  },
  {
   "cell_type": "code",
   "execution_count": 7,
   "metadata": {},
   "outputs": [
    {
     "name": "stdout",
     "output_type": "stream",
     "text": [
      "{'at', \"wasn't\", 'about', 'while', 'other', 'll', 'aren', 'very', \"it's\", 's', 'again', 'your', 'does', 'isn', 'up', 'to', 'where', 't', 'once', 'few', 'ma', 'through', 'but', \"they've\", 'or', 'too', 'no', 'that', 'will', 'here', \"isn't\", 'each', 'who', 'not', 'same', 'further', 'because', 'don', 'all', 'been', \"we'd\", 'hers', 'have', 'herself', 'it', 'our', 'when', 'just', 'there', 'am', 'being', 'in', 'its', 're', 'until', 'we', 'ours', 'weren', 'didn', 'against', \"we've\", \"couldn't\", \"they'll\", \"we'll\", 'did', \"mustn't\", 'what', 'wouldn', 'be', 'off', \"i've\", \"he'd\", 'under', \"shan't\", 'himself', 'couldn', 'were', \"mightn't\", 'both', 'them', \"hasn't\", 'my', \"you'll\", 'above', 'themselves', \"she'll\", 'during', \"should've\", 'y', \"aren't\", \"don't\", \"it'd\", 'the', 'mightn', 'shan', 'itself', 'more', 'and', 'she', 'out', 'by', 'me', 'if', 'can', 'myself', 'some', 'so', \"they'd\", 'ain', \"i'll\", \"you've\", 'wasn', 'was', \"weren't\", \"i'm\", \"needn't\", 'do', \"i'd\", 'as', 'should', 'd', 'before', 'only', 'hasn', \"he's\", 've', 'below', \"haven't\", \"doesn't\", 'they', 'any', 'haven', 'is', 'most', 'how', 'from', 'nor', \"shouldn't\", 'whom', \"she'd\", 'i', 'such', 'doesn', 'over', 'a', 'between', \"it'll\", 'this', 'hadn', 'then', 'their', 'why', \"you'd\", \"he'll\", 'yours', 'these', 'needn', 'yourself', 'm', 'an', 'which', 'him', 'with', \"hadn't\", 'now', 'after', 'his', 'down', 'yourselves', 'you', 'had', 'o', 'than', 'are', 'of', 'ourselves', \"won't\", 'theirs', \"we're\", 'those', \"you're\", \"wouldn't\", \"they're\", 'shouldn', \"she's\", 'having', 'he', 'has', \"that'll\", 'doing', 'own', 'mustn', 'her', 'into', 'for', 'on', 'won', \"didn't\"}\n"
     ]
    }
   ],
   "source": [
    "print(stop_words)"
   ]
  },
  {
   "cell_type": "code",
   "execution_count": 3,
   "metadata": {},
   "outputs": [],
   "source": [
    "text = \"Stop words may be small, but they play a big role in NLP\"\n",
    "test = text.lower()"
   ]
  },
  {
   "cell_type": "code",
   "execution_count": 4,
   "metadata": {},
   "outputs": [],
   "source": [
    "tokens = word_tokenize(text)"
   ]
  },
  {
   "cell_type": "code",
   "execution_count": 5,
   "metadata": {},
   "outputs": [],
   "source": [
    "filtered_words = []\n",
    "for token in tokens:\n",
    "    if token not in stop_words:\n",
    "        filtered_words.append(token)"
   ]
  },
  {
   "cell_type": "code",
   "execution_count": 8,
   "metadata": {},
   "outputs": [
    {
     "name": "stdout",
     "output_type": "stream",
     "text": [
      "Original Text:  Stop words may be small, but they play a big role in NLP\n",
      "\n",
      "Text without stop words:  Stop words may small , play big role NLP\n"
     ]
    }
   ],
   "source": [
    "print(\"Original Text: \", text)\n",
    "print(\"\\nText without stop words: \", ' '.join(filtered_words))"
   ]
  }
 ],
 "metadata": {
  "kernelspec": {
   "display_name": "Python 3",
   "language": "python",
   "name": "python3"
  },
  "language_info": {
   "codemirror_mode": {
    "name": "ipython",
    "version": 3
   },
   "file_extension": ".py",
   "mimetype": "text/x-python",
   "name": "python",
   "nbconvert_exporter": "python",
   "pygments_lexer": "ipython3",
   "version": "3.12.6"
  }
 },
 "nbformat": 4,
 "nbformat_minor": 2
}
